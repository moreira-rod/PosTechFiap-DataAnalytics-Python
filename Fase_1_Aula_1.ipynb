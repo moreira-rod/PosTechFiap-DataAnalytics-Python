{
  "nbformat": 4,
  "nbformat_minor": 0,
  "metadata": {
    "colab": {
      "provenance": [],
      "mount_file_id": "1c6DsmDLMYt23SCAV03MeL5usXrMV9zRC",
      "authorship_tag": "ABX9TyMyx3ngFPpf468jQ6Vqrpc1",
      "include_colab_link": true
    },
    "kernelspec": {
      "name": "python3",
      "display_name": "Python 3"
    },
    "language_info": {
      "name": "python"
    }
  },
  "cells": [
    {
      "cell_type": "markdown",
      "metadata": {
        "id": "view-in-github",
        "colab_type": "text"
      },
      "source": [
        "<a href=\"https://colab.research.google.com/github/moreira-rod/PosTechFiap-DataAnalytics-Python/blob/main/Fase_1_Aula_1.ipynb\" target=\"_parent\"><img src=\"https://colab.research.google.com/assets/colab-badge.svg\" alt=\"Open In Colab\"/></a>"
      ]
    },
    {
      "cell_type": "code",
      "execution_count": 4,
      "metadata": {
        "id": "iMqUAuob1Tm6"
      },
      "outputs": [],
      "source": [
        "caminho_atend = \"/content/drive/MyDrive/PósTech Fiap/Pós Fiap Fase 1 - Python/Base de Dados/sus atend.csv\"\n",
        "caminho_process = \"/content/drive/MyDrive/PósTech Fiap/Pós Fiap Fase 1 - Python/Base de Dados/sus process.csv\""
      ]
    },
    {
      "cell_type": "code",
      "source": [
        "import pandas as pd"
      ],
      "metadata": {
        "id": "kPmlzzmQ5k18"
      },
      "execution_count": 5,
      "outputs": []
    },
    {
      "cell_type": "code",
      "source": [
        "# A variavel dados é um data frame do pandas\n",
        "dados = pd.read_csv(caminho_process, encoding=\"ISO-8859-1\", skiprows=3, sep=\";\",skipfooter=12, thousands=\".\", decimal=\",\")"
      ],
      "metadata": {
        "colab": {
          "base_uri": "https://localhost:8080/"
        },
        "id": "NkEQLkyE6CxA",
        "outputId": "f63914ad-45d5-49fc-d5a1-e33d641cde59"
      },
      "execution_count": 16,
      "outputs": [
        {
          "output_type": "stream",
          "name": "stderr",
          "text": [
            "<ipython-input-16-46789c79800e>:2: ParserWarning: Falling back to the 'python' engine because the 'c' engine does not support skipfooter; you can avoid this warning by specifying engine='python'.\n",
            "  dados = pd.read_csv(caminho_process, encoding=\"ISO-8859-1\", skiprows=3, sep=\";\",skipfooter=12, thousands=\".\", decimal=\",\")\n"
          ]
        }
      ]
    },
    {
      "cell_type": "markdown",
      "source": [
        "# Biblioteca Pandas\n",
        "\n",
        "- A Biblioteca pandas serviu para carregar o csv\n",
        "- O encoding foi para ajustar a linguagem do arquivo (para reconhecer ^, ç, ~ e etc...)\n",
        "- Skiprows pulou 3 linhas do começo do arquivo\n",
        "- Sep alterou o delimitador de , para ;\n",
        "- Skipfooter desconsiderou as ultimas 12 linhas do arquivo\n",
        "- Thousands serve para mudar a separação do milhar de um valor\n",
        "- Decimal serve para mudar a separação do decimal de um valor"
      ],
      "metadata": {
        "id": "86W3qvBp8wRn"
      }
    },
    {
      "cell_type": "code",
      "source": [
        "# Metodo head traz as 5 primeiras linhas do data frame\n",
        "dados.head()"
      ],
      "metadata": {
        "id": "fImxB4gj9ceY"
      },
      "execution_count": null,
      "outputs": []
    },
    {
      "cell_type": "code",
      "source": [
        "# Metodo tail traz as 5 ultimas linhas do data frame\n",
        "dados.tail()"
      ],
      "metadata": {
        "id": "ou71PQhR-Fsk"
      },
      "execution_count": null,
      "outputs": []
    },
    {
      "cell_type": "code",
      "source": [
        "# Média dos valores por coluna\n",
        "dados.mean()"
      ],
      "metadata": {
        "id": "rj9eHNTD_HTl"
      },
      "execution_count": null,
      "outputs": []
    },
    {
      "cell_type": "code",
      "source": [
        "# Informações sobre os dados carregados (no caso o csv)\n",
        "dados.info()"
      ],
      "metadata": {
        "id": "IJMtQ4Gl_qRB"
      },
      "execution_count": null,
      "outputs": []
    },
    {
      "cell_type": "code",
      "source": [
        "# Usa o padrão global de formatação para dados float com 2 numeros após a virgula.\n",
        "pd.options.display.float_format = \"{:.2f}\".format"
      ],
      "metadata": {
        "id": "0t4J2DhZHAmE"
      },
      "execution_count": 19,
      "outputs": []
    }
  ]
}